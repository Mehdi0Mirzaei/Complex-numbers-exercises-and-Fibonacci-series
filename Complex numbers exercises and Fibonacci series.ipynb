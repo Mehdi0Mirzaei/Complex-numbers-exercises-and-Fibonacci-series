{
 "cells": [
  {
   "cell_type": "code",
   "execution_count": 127,
   "id": "fd88dc21",
   "metadata": {},
   "outputs": [],
   "source": [
    "import cmath as cm\n",
    "import sympy as sys\n",
    "from IPython.display import Math,display\n",
    "import matplotlib.pyplot as plt\n",
    "import numpy as np"
   ]
  },
  {
   "cell_type": "code",
   "execution_count": 4,
   "id": "3de1ff11",
   "metadata": {},
   "outputs": [],
   "source": [
    "x,y,a,b,c,d,z,z1,z2=sys.symbols(\"x y a b c d z z1 z2\")"
   ]
  },
  {
   "cell_type": "code",
   "execution_count": 5,
   "id": "6abc59d3",
   "metadata": {},
   "outputs": [],
   "source": [
    "j=sys.symbols(\"j\")\n",
    "j=sys.sqrt(-1)"
   ]
  },
  {
   "cell_type": "code",
   "execution_count": 6,
   "id": "1f91e11a",
   "metadata": {},
   "outputs": [
    {
     "data": {
      "text/latex": [
       "$\\displaystyle i$"
      ],
      "text/plain": [
       "I"
      ]
     },
     "metadata": {},
     "output_type": "display_data"
    }
   ],
   "source": [
    "display(j)"
   ]
  },
  {
   "cell_type": "code",
   "execution_count": 8,
   "id": "df4f2e30",
   "metadata": {},
   "outputs": [
    {
     "data": {
      "text/plain": [
       "True"
      ]
     },
     "execution_count": 8,
     "metadata": {},
     "output_type": "execute_result"
    }
   ],
   "source": [
    "i is j"
   ]
  },
  {
   "cell_type": "markdown",
   "id": "413460fe",
   "metadata": {},
   "source": [
    "## Part Two: Math Exercises"
   ]
  },
  {
   "cell_type": "markdown",
   "id": "76754c72",
   "metadata": {},
   "source": [
    "#### 1. Addition and Subtraction: Perform the following operations:"
   ]
  },
  {
   "cell_type": "markdown",
   "id": "81c5d06f",
   "metadata": {},
   "source": [
    "##### a1)"
   ]
  },
  {
   "cell_type": "code",
   "execution_count": 10,
   "id": "4d6ae6aa",
   "metadata": {},
   "outputs": [
    {
     "data": {
      "text/latex": [
       "$\\displaystyle 4.0 - 2.0 i$"
      ],
      "text/plain": [
       "4.0 - 2.0*I"
      ]
     },
     "execution_count": 10,
     "metadata": {},
     "output_type": "execute_result"
    }
   ],
   "source": [
    "sys.sympify((3 + 2j) + (1 - 4j))"
   ]
  },
  {
   "cell_type": "markdown",
   "id": "f217ee47",
   "metadata": {},
   "source": [
    "#### b1)"
   ]
  },
  {
   "cell_type": "code",
   "execution_count": 11,
   "id": "766dc1a3",
   "metadata": {},
   "outputs": [
    {
     "data": {
      "text/latex": [
       "$\\displaystyle 3.0 - 5.0 i$"
      ],
      "text/plain": [
       "3.0 - 5.0*I"
      ]
     },
     "execution_count": 11,
     "metadata": {},
     "output_type": "execute_result"
    }
   ],
   "source": [
    "sys.sympify(5 - 2j) - (2 + 3j)"
   ]
  },
  {
   "cell_type": "markdown",
   "id": "f0c44f85",
   "metadata": {},
   "source": [
    "#### 2. Multiplication: Multiply the following complex numbers:"
   ]
  },
  {
   "cell_type": "markdown",
   "id": "6e3ae01c",
   "metadata": {},
   "source": [
    "#### a2)"
   ]
  },
  {
   "cell_type": "code",
   "execution_count": 18,
   "id": "a22eec77",
   "metadata": {},
   "outputs": [],
   "source": [
    "z=complex(2,3)*complex(4,-5)"
   ]
  },
  {
   "cell_type": "code",
   "execution_count": 19,
   "id": "756ba6c5",
   "metadata": {},
   "outputs": [
    {
     "data": {
      "text/latex": [
       "$\\displaystyle 23.0 + 2.0 i$"
      ],
      "text/plain": [
       "23.0 + 2.0*I"
      ]
     },
     "execution_count": 19,
     "metadata": {},
     "output_type": "execute_result"
    }
   ],
   "source": [
    "sys.sympify(z)"
   ]
  },
  {
   "cell_type": "markdown",
   "id": "95d238fd",
   "metadata": {},
   "source": [
    "#### b2)"
   ]
  },
  {
   "cell_type": "code",
   "execution_count": 25,
   "id": "829bcf9f",
   "metadata": {},
   "outputs": [],
   "source": [
    "result=complex(1+1j)*complex(1-1j)"
   ]
  },
  {
   "cell_type": "code",
   "execution_count": 27,
   "id": "054f33a7",
   "metadata": {},
   "outputs": [
    {
     "name": "stdout",
     "output_type": "stream",
     "text": [
      "(2+0j)\n"
     ]
    }
   ],
   "source": [
    "num1 = 1 + 1j\n",
    "num2 = 1 - 1j\n",
    "b = num1 * num2\n",
    "print(result)"
   ]
  },
  {
   "cell_type": "code",
   "execution_count": 29,
   "id": "3e9bc408",
   "metadata": {},
   "outputs": [
    {
     "data": {
      "text/latex": [
       "$\\displaystyle 2.0$"
      ],
      "text/plain": [
       "2.00000000000000"
      ]
     },
     "execution_count": 29,
     "metadata": {},
     "output_type": "execute_result"
    }
   ],
   "source": [
    "sys.sympify(result)"
   ]
  },
  {
   "cell_type": "markdown",
   "id": "7aa05f34",
   "metadata": {},
   "source": [
    "#### 3. Division: Divide the following complex numbers:"
   ]
  },
  {
   "cell_type": "markdown",
   "id": "c02324da",
   "metadata": {},
   "source": [
    "##### 3a)"
   ]
  },
  {
   "cell_type": "code",
   "execution_count": 30,
   "id": "52b3761b",
   "metadata": {},
   "outputs": [],
   "source": [
    "result=(6 + 8j) / (2 + 2j)"
   ]
  },
  {
   "cell_type": "code",
   "execution_count": 31,
   "id": "36e7c93d",
   "metadata": {},
   "outputs": [
    {
     "data": {
      "text/plain": [
       "(3.5+0.5j)"
      ]
     },
     "execution_count": 31,
     "metadata": {},
     "output_type": "execute_result"
    }
   ],
   "source": [
    "result"
   ]
  },
  {
   "cell_type": "code",
   "execution_count": 32,
   "id": "f58c4086",
   "metadata": {},
   "outputs": [
    {
     "data": {
      "text/latex": [
       "$\\displaystyle 3.5 + 0.5 i$"
      ],
      "text/plain": [
       "3.5 + 0.5*I"
      ]
     },
     "execution_count": 32,
     "metadata": {},
     "output_type": "execute_result"
    }
   ],
   "source": [
    "sys.sympify(result)"
   ]
  },
  {
   "cell_type": "markdown",
   "id": "45c38b1f",
   "metadata": {},
   "source": [
    "##### 3b)"
   ]
  },
  {
   "cell_type": "code",
   "execution_count": 34,
   "id": "7b262af7",
   "metadata": {},
   "outputs": [],
   "source": [
    "result=(3 - 1j) / (1 + 2j)"
   ]
  },
  {
   "cell_type": "code",
   "execution_count": 35,
   "id": "7feae636",
   "metadata": {},
   "outputs": [
    {
     "data": {
      "text/plain": [
       "(0.2-1.4j)"
      ]
     },
     "execution_count": 35,
     "metadata": {},
     "output_type": "execute_result"
    }
   ],
   "source": [
    "result"
   ]
  },
  {
   "cell_type": "code",
   "execution_count": 36,
   "id": "44b6ffb7",
   "metadata": {},
   "outputs": [
    {
     "data": {
      "text/latex": [
       "$\\displaystyle 0.2 - 1.4 i$"
      ],
      "text/plain": [
       "0.2 - 1.4*I"
      ]
     },
     "execution_count": 36,
     "metadata": {},
     "output_type": "execute_result"
    }
   ],
   "source": [
    "sys.sympify(result)"
   ]
  },
  {
   "cell_type": "markdown",
   "id": "2608dd78",
   "metadata": {},
   "source": [
    "#### 4. Conjugate: Find the conjugate of the complex numbers:"
   ]
  },
  {
   "cell_type": "markdown",
   "id": "22fd4326",
   "metadata": {},
   "source": [
    "##### 4a)"
   ]
  },
  {
   "cell_type": "code",
   "execution_count": 40,
   "id": "5137015c",
   "metadata": {},
   "outputs": [],
   "source": [
    "def complex_to_conjugate(complex_num):\n",
    "    real_part = complex_num.real\n",
    "    imag_part = complex_num.imag\n",
    "    conjugate = complex(real_part, -imag_part)\n",
    "    return conjugate"
   ]
  },
  {
   "cell_type": "code",
   "execution_count": 43,
   "id": "f213afd4",
   "metadata": {},
   "outputs": [
    {
     "data": {
      "text/plain": [
       "(4+7j)"
      ]
     },
     "execution_count": 43,
     "metadata": {},
     "output_type": "execute_result"
    }
   ],
   "source": [
    "complex_to_conjugate(4-7j)"
   ]
  },
  {
   "cell_type": "code",
   "execution_count": 47,
   "id": "8510839d",
   "metadata": {},
   "outputs": [
    {
     "data": {
      "text/latex": [
       "$\\displaystyle 4.0 + 7.0 i$"
      ],
      "text/plain": [
       "4.0 + 7.0*I"
      ]
     },
     "execution_count": 47,
     "metadata": {},
     "output_type": "execute_result"
    }
   ],
   "source": [
    "sys.sympify(complex_to_conjugate(4-7j))"
   ]
  },
  {
   "cell_type": "markdown",
   "id": "24d0b311",
   "metadata": {},
   "source": [
    "#### 4b)"
   ]
  },
  {
   "cell_type": "code",
   "execution_count": 48,
   "id": "78e75ecb",
   "metadata": {},
   "outputs": [
    {
     "data": {
      "text/plain": [
       "(2-3j)"
      ]
     },
     "execution_count": 48,
     "metadata": {},
     "output_type": "execute_result"
    }
   ],
   "source": [
    "complex_to_conjugate(2 + 3j)"
   ]
  },
  {
   "cell_type": "code",
   "execution_count": 49,
   "id": "3dd24f35",
   "metadata": {},
   "outputs": [
    {
     "data": {
      "text/latex": [
       "$\\displaystyle 2.0 - 3.0 i$"
      ],
      "text/plain": [
       "2.0 - 3.0*I"
      ]
     },
     "execution_count": 49,
     "metadata": {},
     "output_type": "execute_result"
    }
   ],
   "source": [
    "sys.sympify(complex_to_conjugate(2 + 3j))"
   ]
  },
  {
   "cell_type": "markdown",
   "id": "0b73edcc",
   "metadata": {},
   "source": [
    "#### 5. Absolute Value (Magnitude): Calculate the absolute value (magnitude) of the complex numbers:"
   ]
  },
  {
   "cell_type": "markdown",
   "id": "80000877",
   "metadata": {},
   "source": [
    "##### a5)"
   ]
  },
  {
   "cell_type": "code",
   "execution_count": 50,
   "id": "edc4931c",
   "metadata": {},
   "outputs": [],
   "source": [
    "def complex_absolute(complex_num):\n",
    "    magnitude = abs(complex_num)\n",
    "    return magnitude"
   ]
  },
  {
   "cell_type": "code",
   "execution_count": 52,
   "id": "6eee5936",
   "metadata": {},
   "outputs": [
    {
     "data": {
      "text/plain": [
       "5.0"
      ]
     },
     "execution_count": 52,
     "metadata": {},
     "output_type": "execute_result"
    }
   ],
   "source": [
    "complex_absolute(3 - 4j)"
   ]
  },
  {
   "cell_type": "markdown",
   "id": "68f5a0fe",
   "metadata": {},
   "source": [
    "##### b5)"
   ]
  },
  {
   "cell_type": "code",
   "execution_count": 53,
   "id": "02bfd44e",
   "metadata": {},
   "outputs": [
    {
     "data": {
      "text/plain": [
       "6.324555320336759"
      ]
     },
     "execution_count": 53,
     "metadata": {},
     "output_type": "execute_result"
    }
   ],
   "source": [
    "complex_absolute(-2 + 6j)"
   ]
  },
  {
   "cell_type": "code",
   "execution_count": null,
   "id": "a29681dd",
   "metadata": {},
   "outputs": [],
   "source": []
  },
  {
   "cell_type": "code",
   "execution_count": 55,
   "id": "ecd17901",
   "metadata": {},
   "outputs": [],
   "source": [
    "sin,cos=sys.symbols('sin cos')"
   ]
  },
  {
   "cell_type": "markdown",
   "id": "1f2c7b66",
   "metadata": {},
   "source": [
    "#### 6. Polar Form: Express the complex numbers in polar form (magnitude and argument):"
   ]
  },
  {
   "cell_type": "markdown",
   "id": "fd3c146b",
   "metadata": {},
   "source": [
    "##### a6)"
   ]
  },
  {
   "cell_type": "code",
   "execution_count": 60,
   "id": "1b17a976",
   "metadata": {},
   "outputs": [
    {
     "name": "stdout",
     "output_type": "stream",
     "text": [
      "Complex number: (1+1.7320508075688772j)\n",
      "Magnitude: 1.9999999999999998\n",
      "Argument (radians): 1.0471975511965976\n",
      "Argument (degrees): 59.99999999999999°\n",
      "Polar Form: 2.00 * cis(60.00°)\n"
     ]
    }
   ],
   "source": [
    "def complex_to_polar(complex_num):\n",
    "    magnitude = abs(complex_num)\n",
    "    argument_radians = cm.phase(complex_num)\n",
    "    argument_degrees = argument_radians * 180 / cm.pi\n",
    "    polar_form = f\"{magnitude:.2f} * cis({argument_degrees:.2f}°)\"\n",
    "    \n",
    "    return magnitude, argument_radians, argument_degrees, polar_form\n",
    "\n",
    "\n",
    "z = 1 + cm.sqrt(3) * 1j\n",
    "magnitude, argument_radians, argument_degrees, polar_form = complex_to_polar(z)\n",
    "\n",
    "print(f\"Complex number: {z}\")\n",
    "print(f\"Magnitude: {magnitude}\")\n",
    "print(f\"Argument (radians): {argument_radians}\")\n",
    "print(f\"Argument (degrees): {argument_degrees}°\")\n",
    "print(f\"Polar Form: {polar_form}\")\n"
   ]
  },
  {
   "cell_type": "markdown",
   "id": "b9dee02d",
   "metadata": {},
   "source": [
    "##### b6)"
   ]
  },
  {
   "cell_type": "code",
   "execution_count": 63,
   "id": "2692387d",
   "metadata": {},
   "outputs": [
    {
     "data": {
      "text/plain": [
       "(4.0, -1.5707963267948966, -90.0, '4.00 * cis(-90.00°)')"
      ]
     },
     "execution_count": 63,
     "metadata": {},
     "output_type": "execute_result"
    }
   ],
   "source": [
    "complex_to_polar(-4j)"
   ]
  },
  {
   "cell_type": "markdown",
   "id": "190a4950",
   "metadata": {},
   "source": [
    "#### 7. Exponentiation: Compute the following complex number raised to a power:"
   ]
  },
  {
   "cell_type": "markdown",
   "id": "f40d2f1a",
   "metadata": {},
   "source": [
    "##### a7)"
   ]
  },
  {
   "cell_type": "code",
   "execution_count": 72,
   "id": "fe497b39",
   "metadata": {},
   "outputs": [],
   "source": [
    "result=complex((1 + 1j)**3)"
   ]
  },
  {
   "cell_type": "code",
   "execution_count": 73,
   "id": "aa7578b9",
   "metadata": {},
   "outputs": [
    {
     "data": {
      "text/plain": [
       "(-2+2j)"
      ]
     },
     "execution_count": 73,
     "metadata": {},
     "output_type": "execute_result"
    }
   ],
   "source": [
    "result"
   ]
  },
  {
   "cell_type": "code",
   "execution_count": 74,
   "id": "3438eae5",
   "metadata": {},
   "outputs": [
    {
     "data": {
      "text/latex": [
       "$\\displaystyle -2.0 + 2.0 i$"
      ],
      "text/plain": [
       "-2.0 + 2.0*I"
      ]
     },
     "execution_count": 74,
     "metadata": {},
     "output_type": "execute_result"
    }
   ],
   "source": [
    "sys.sympify(result)"
   ]
  },
  {
   "cell_type": "markdown",
   "id": "f19b9779",
   "metadata": {},
   "source": [
    "##### b7)"
   ]
  },
  {
   "cell_type": "code",
   "execution_count": 75,
   "id": "e3d5f398",
   "metadata": {},
   "outputs": [],
   "source": [
    "result=(-2j)**4"
   ]
  },
  {
   "cell_type": "code",
   "execution_count": 76,
   "id": "00a97928",
   "metadata": {},
   "outputs": [
    {
     "data": {
      "text/plain": [
       "(16+0j)"
      ]
     },
     "execution_count": 76,
     "metadata": {},
     "output_type": "execute_result"
    }
   ],
   "source": [
    "result"
   ]
  },
  {
   "cell_type": "code",
   "execution_count": 77,
   "id": "2851039e",
   "metadata": {},
   "outputs": [
    {
     "data": {
      "text/latex": [
       "$\\displaystyle 16.0$"
      ],
      "text/plain": [
       "16.0000000000000"
      ]
     },
     "execution_count": 77,
     "metadata": {},
     "output_type": "execute_result"
    }
   ],
   "source": [
    "sys.sympify(result)"
   ]
  },
  {
   "cell_type": "markdown",
   "id": "cb855088",
   "metadata": {},
   "source": [
    "#### 8. Roots: Find the square roots of the following complex numbers:"
   ]
  },
  {
   "cell_type": "markdown",
   "id": "d737de92",
   "metadata": {},
   "source": [
    "##### a8)"
   ]
  },
  {
   "cell_type": "code",
   "execution_count": 83,
   "id": "d437e019",
   "metadata": {},
   "outputs": [],
   "source": [
    "result=cm.sqrt(4 - 4j)"
   ]
  },
  {
   "cell_type": "code",
   "execution_count": 85,
   "id": "af74b963",
   "metadata": {},
   "outputs": [
    {
     "data": {
      "text/latex": [
       "$\\displaystyle 2.19736822693562 - 0.910179721124455 i$"
      ],
      "text/plain": [
       "2.19736822693562 - 0.910179721124455*I"
      ]
     },
     "execution_count": 85,
     "metadata": {},
     "output_type": "execute_result"
    }
   ],
   "source": [
    "sys.sympify(result)"
   ]
  },
  {
   "cell_type": "code",
   "execution_count": null,
   "id": "d0ec2976",
   "metadata": {},
   "outputs": [],
   "source": []
  },
  {
   "cell_type": "markdown",
   "id": "4d8957e9",
   "metadata": {},
   "source": [
    "##### b8)"
   ]
  },
  {
   "cell_type": "code",
   "execution_count": 87,
   "id": "453b92df",
   "metadata": {},
   "outputs": [],
   "source": [
    "result=cm.sqrt(-9j)"
   ]
  },
  {
   "cell_type": "code",
   "execution_count": 88,
   "id": "50dc4b6b",
   "metadata": {},
   "outputs": [
    {
     "data": {
      "text/plain": [
       "(2.1213203435596424-2.121320343559643j)"
      ]
     },
     "execution_count": 88,
     "metadata": {},
     "output_type": "execute_result"
    }
   ],
   "source": [
    "result"
   ]
  },
  {
   "cell_type": "code",
   "execution_count": 89,
   "id": "413d14cb",
   "metadata": {},
   "outputs": [
    {
     "data": {
      "text/latex": [
       "$\\displaystyle 2.12132034355964 - 2.12132034355964 i$"
      ],
      "text/plain": [
       "2.12132034355964 - 2.12132034355964*I"
      ]
     },
     "execution_count": 89,
     "metadata": {},
     "output_type": "execute_result"
    }
   ],
   "source": [
    "sys.sympify(result)"
   ]
  },
  {
   "cell_type": "markdown",
   "id": "ccfee4ae",
   "metadata": {},
   "source": [
    "#### 9. Complex Conjugate Product: Show that the product of a complex number and its conjugate is a real number"
   ]
  },
  {
   "cell_type": "markdown",
   "id": "047b8f67",
   "metadata": {},
   "source": [
    "##### a9)"
   ]
  },
  {
   "cell_type": "code",
   "execution_count": 90,
   "id": "060cfdee",
   "metadata": {},
   "outputs": [],
   "source": [
    "z1=x+y*j\n",
    "z2=x-y*j"
   ]
  },
  {
   "cell_type": "code",
   "execution_count": 104,
   "id": "19b03a98",
   "metadata": {},
   "outputs": [],
   "source": [
    "Z=(x+y*j)*(x-y*j)"
   ]
  },
  {
   "cell_type": "code",
   "execution_count": 108,
   "id": "2e17e52b",
   "metadata": {},
   "outputs": [
    {
     "data": {
      "text/plain": [
       "[{x: -I*y}, {x: I*y}]"
      ]
     },
     "execution_count": 108,
     "metadata": {},
     "output_type": "execute_result"
    }
   ],
   "source": [
    "sys.solve(Z)"
   ]
  },
  {
   "cell_type": "code",
   "execution_count": 111,
   "id": "a1bf37d6",
   "metadata": {},
   "outputs": [
    {
     "data": {
      "text/latex": [
       "$\\displaystyle x^{2} + y^{2}$"
      ],
      "text/plain": [
       "x**2 + y**2"
      ]
     },
     "execution_count": 111,
     "metadata": {},
     "output_type": "execute_result"
    }
   ],
   "source": [
    "sys.simplify(Z)"
   ]
  },
  {
   "cell_type": "code",
   "execution_count": 126,
   "id": "72b39c96",
   "metadata": {},
   "outputs": [
    {
     "data": {
      "text/latex": [
       "$\\displaystyle \\text{(x^2+y^2)}{\\text{is real number}}$"
      ],
      "text/plain": [
       "<IPython.core.display.Math object>"
      ]
     },
     "metadata": {},
     "output_type": "display_data"
    }
   ],
   "source": [
    "display(Math('\\\\text{(x^2+y^2)}{\\\\text{is real number}}'))"
   ]
  },
  {
   "cell_type": "markdown",
   "id": "d95e1a76",
   "metadata": {},
   "source": [
    "#### 10. Complex Plane Plotting: Plot the complex numbers from exercises\n",
    "1(a), 2(a), and 4(b) on the complex plane."
   ]
  },
  {
   "cell_type": "markdown",
   "id": "aacc66bc",
   "metadata": {},
   "source": [
    "##### 1a)"
   ]
  },
  {
   "cell_type": "code",
   "execution_count": 130,
   "id": "fc3b35e6",
   "metadata": {},
   "outputs": [
    {
     "data": {
      "image/png": "[encoded data removed]",
      "text/plain": [
       "<Figure size 640x480 with 1 Axes>"
      ]
     },
     "metadata": {},
     "output_type": "display_data"
    }
   ],
   "source": [
    "x=np.array([4])\n",
    "y=np.array([-2])\n",
    "plt.scatter(x,y,marker='x')\n",
    "plt.show()"
   ]
  },
  {
   "cell_type": "markdown",
   "id": "9fc4219c",
   "metadata": {},
   "source": [
    "##### a2)"
   ]
  },
  {
   "cell_type": "code",
   "execution_count": 131,
   "id": "2fb0a94f",
   "metadata": {},
   "outputs": [
    {
     "data": {
      "image/png": "[encoded data removed]",
      "text/plain": [
       "<Figure size 640x480 with 1 Axes>"
      ]
     },
     "metadata": {},
     "output_type": "display_data"
    }
   ],
   "source": [
    "x=np.array([23])\n",
    "y=np.array([2])\n",
    "plt.scatter(x,y,marker='x')\n",
    "plt.show()"
   ]
  },
  {
   "cell_type": "code",
   "execution_count": 132,
   "id": "4058aea2",
   "metadata": {},
   "outputs": [
    {
     "data": {
      "image/png": "[encoded data removed]",
      "text/plain": [
       "<Figure size 640x480 with 1 Axes>"
      ]
     },
     "metadata": {},
     "output_type": "display_data"
    }
   ],
   "source": [
    "x=np.array(2)\n",
    "y=np.array(-3)\n",
    "plt.scatter(x,y,marker='x')\n",
    "plt.show()"
   ]
  },
  {
   "cell_type": "code",
   "execution_count": null,
   "id": "dfc149b5",
   "metadata": {},
   "outputs": [],
   "source": []
  },
  {
   "cell_type": "code",
   "execution_count": null,
   "id": "68035713",
   "metadata": {},
   "outputs": [],
   "source": []
  },
  {
   "cell_type": "code",
   "execution_count": 135,
   "id": "d2f1483d",
   "metadata": {
    "scrolled": false
   },
   "outputs": [
    {
     "name": "stdout",
     "output_type": "stream",
     "text": [
      "How many terms? 5\n",
      "Fibonacci sequence : \n",
      "1\n",
      "1\n",
      "2\n",
      "3\n",
      "5\n"
     ]
    }
   ],
   "source": [
    "n_terms=int(input(\"How many terms? \"))\n",
    "n_1,n_2=1,1\n",
    "count=0\n",
    "if n_terms<=0:\n",
    "    print(\"Please enter a psitive integer bigger than zero!\")\n",
    "elif n_terms==1:\n",
    "    print(\"Fibonacci sequence\",n_terms,\":\")\n",
    "    print(n_1)\n",
    "else:\n",
    "    print(\"Fibonacci sequence : \")\n",
    "    while count < n_terms:\n",
    "        print(n_1)\n",
    "        nth=n_1+n_2\n",
    "        n_1=n_2\n",
    "        n_2=nth\n",
    "        count+=1"
   ]
  },
  {
   "cell_type": "code",
   "execution_count": 137,
   "id": "9b7de909",
   "metadata": {},
   "outputs": [
    {
     "name": "stdout",
     "output_type": "stream",
     "text": [
      "How many terms? 5\n",
      "Fibonacci sequence : \n",
      "1\n",
      "1\n",
      "2\n",
      "3\n",
      "5\n"
     ]
    }
   ],
   "source": [
    "def fibonacci_series(n):\n",
    "    n_1,n_2=1,1\n",
    "    count=0\n",
    "    if n_terms<=0:\n",
    "        print(\"Please enter a psitive integer bigger than zero!\")\n",
    "    elif n_terms==1:\n",
    "        print(\"Fibonacci sequence\",n_terms,\":\")\n",
    "        print(n_1)\n",
    "    else:\n",
    "        print(\"Fibonacci sequence : \")\n",
    "        while count < n_terms:\n",
    "            print(n_1)\n",
    "            nth=n_1+n_2\n",
    "            n_1=n_2\n",
    "            n_2=nth\n",
    "            count+=1\n",
    "n_terms=int(input(\"How many terms? \"))\n",
    "fibonacci_series(n)"
   ]
  },
  {
   "cell_type": "code",
   "execution_count": 136,
   "id": "9e0a0d1a",
   "metadata": {},
   "outputs": [
    {
     "name": "stdout",
     "output_type": "stream",
     "text": [
      "Enter the number of Fibonacci numbers you want: 5\n",
      "The first 5 numbers in the Fibonacci series are:\n",
      "[0, 1, 1, 2, 3]\n"
     ]
    }
   ],
   "source": [
    "def fibonacci_series(n):\n",
    "    series = []\n",
    "    a, b = 0, 1\n",
    "    \n",
    "    for _ in range(n):\n",
    "        series.append(a)\n",
    "        a, b = b, a + b\n",
    "        \n",
    "    return series\n",
    "\n",
    "n = int(input(\"Enter the number of Fibonacci numbers you want: \"))\n",
    "fib_series = fibonacci_series(n)\n",
    "print(f\"The first {n} numbers in the Fibonacci series are:\")\n",
    "print(fib_series)\n"
   ]
  },
  {
   "cell_type": "code",
   "execution_count": null,
   "id": "34e408c0",
   "metadata": {},
   "outputs": [],
   "source": []
  }
 ],
 "metadata": {
  "kernelspec": {
   "display_name": "Python 3 (ipykernel)",
   "language": "python",
   "name": "python3"
  },
  "language_info": {
   "codemirror_mode": {
    "name": "ipython",
    "version": 3
   },
   "file_extension": ".py",
   "mimetype": "text/x-python",
   "name": "python",
   "nbconvert_exporter": "python",
   "pygments_lexer": "ipython3",
   "version": "3.9.17"
  }
 },
 "nbformat": 4,
 "nbformat_minor": 5
}
